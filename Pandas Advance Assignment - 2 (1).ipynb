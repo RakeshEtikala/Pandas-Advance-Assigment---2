{
 "cells": [
  {
   "cell_type": "code",
   "execution_count": 1,
   "id": "4f475866-620c-4e70-885c-5eb04eae3d9f",
   "metadata": {},
   "outputs": [],
   "source": [
    "import pandas as pd\n",
    "course_name = ['Data Science', 'Machine Learning', 'Big Data', 'Data Engineer']\n",
    "duration = [2,3,6,4]\n",
    "df = pd.DataFrame(data = {'course_name' : course_name, 'duration' : duration})"
   ]
  },
  {
   "cell_type": "markdown",
   "id": "a72b66cb-75af-4281-96f7-db7ecc755750",
   "metadata": {},
   "source": [
    "Q1. Write a code to print the data present in the second row of the dataframe, df."
   ]
  },
  {
   "cell_type": "code",
   "execution_count": 2,
   "id": "efbbeb73-8d99-445c-9359-235f9369fa71",
   "metadata": {},
   "outputs": [
    {
     "name": "stdout",
     "output_type": "stream",
     "text": [
      "course_name    Machine Learning\n",
      "duration                      3\n",
      "Name: 1, dtype: object\n"
     ]
    }
   ],
   "source": [
    "rakesh = df.loc[1]\n",
    "print(rakesh)"
   ]
  },
  {
   "cell_type": "markdown",
   "id": "12979083-9bb7-4e78-99c4-769885d01aaf",
   "metadata": {},
   "source": [
    "Q2. What is the difference between the functions loc and iloc in pandas.DataFrame?"
   ]
  },
  {
   "cell_type": "markdown",
   "id": "aabb58b8-b421-4ccb-bf27-8e3c743260dd",
   "metadata": {},
   "source": [
    "loc = loc is primarily label-based indexing. It is used for selection by label, which means you specify the row and column labels to retrieve data."
   ]
  },
  {
   "cell_type": "markdown",
   "id": "86b89539-fc5f-4ce0-9f61-acd740a0074e",
   "metadata": {},
   "source": [
    "iloc -Used for integer-location based indexing. You specify row and column positions using integers. It excludes the last element of the range."
   ]
  },
  {
   "cell_type": "markdown",
   "id": "044d766c-df01-4714-8a99-ee0193b2042e",
   "metadata": {},
   "source": [
    "Q3. Reindex the given dataframe using a variable, reindex = [3,0,1,2] and store it in the variable, new_df\n",
    "then find the output for both new_df.loc[2] and new_df.iloc[2]."
   ]
  },
  {
   "cell_type": "code",
   "execution_count": 3,
   "id": "eb2d6c33-6f9e-4921-96ba-ec4168de9931",
   "metadata": {},
   "outputs": [],
   "source": [
    "reindex = [3,0,1,2]\n",
    "new_df = df.reindex(reindex)"
   ]
  },
  {
   "cell_type": "code",
   "execution_count": 4,
   "id": "07bafe8e-1646-46b4-982b-3a91748b3c4a",
   "metadata": {},
   "outputs": [
    {
     "data": {
      "text/plain": [
       "course_name    Big Data\n",
       "duration              6\n",
       "Name: 2, dtype: object"
      ]
     },
     "execution_count": 4,
     "metadata": {},
     "output_type": "execute_result"
    }
   ],
   "source": [
    "new_df.loc[2]"
   ]
  },
  {
   "cell_type": "code",
   "execution_count": 5,
   "id": "86b33b32-e3e9-4b6a-a059-28a2f1156c3c",
   "metadata": {},
   "outputs": [
    {
     "data": {
      "text/plain": [
       "course_name    Machine Learning\n",
       "duration                      3\n",
       "Name: 1, dtype: object"
      ]
     },
     "execution_count": 5,
     "metadata": {},
     "output_type": "execute_result"
    }
   ],
   "source": [
    "new_df.iloc[2]"
   ]
  },
  {
   "cell_type": "markdown",
   "id": "99798c69-c4e1-4075-a5d0-b13bac7a0541",
   "metadata": {},
   "source": [
    "loc = loc is primarily label-based indexing. It is used for selection by label, which means you specify the row and column labels to retrieve data."
   ]
  },
  {
   "cell_type": "markdown",
   "id": "95cd8bbd-c59a-4371-8e8d-9955e6cc2c2b",
   "metadata": {},
   "source": [
    "iloc -Used for integer-location based indexing. You specify row and column positions using integers. It excludes the last element of the range."
   ]
  },
  {
   "cell_type": "code",
   "execution_count": 6,
   "id": "09139ac2-f13e-4322-a9b0-d7a68386b299",
   "metadata": {},
   "outputs": [],
   "source": [
    "import pandas as pd\n",
    "import numpy as np\n",
    "columns = ['column_1', 'column_2', 'column_3', 'column_4', 'column_5', 'column_6']\n",
    "indices = [1,2,3,4,5,6]\n",
    "#Creating a dataframe:\n",
    "df1 = pd.DataFrame(np.random.rand(6,6), columns = columns, index = indices)"
   ]
  },
  {
   "cell_type": "markdown",
   "id": "46dea1cd-3ea9-41a5-ab70-1de027a3c89a",
   "metadata": {},
   "source": [
    "Q4. Write a code to find the following statistical measurements for the above dataframe df1:\n",
    "(i) mean of each and every column present in the dataframe.\n",
    "(ii) standard deviation of column, ‘column_2’"
   ]
  },
  {
   "cell_type": "code",
   "execution_count": 7,
   "id": "a7200874-2b44-4d64-a2ab-701112c3d4f9",
   "metadata": {},
   "outputs": [
    {
     "data": {
      "text/html": [
       "<div>\n",
       "<style scoped>\n",
       "    .dataframe tbody tr th:only-of-type {\n",
       "        vertical-align: middle;\n",
       "    }\n",
       "\n",
       "    .dataframe tbody tr th {\n",
       "        vertical-align: top;\n",
       "    }\n",
       "\n",
       "    .dataframe thead th {\n",
       "        text-align: right;\n",
       "    }\n",
       "</style>\n",
       "<table border=\"1\" class=\"dataframe\">\n",
       "  <thead>\n",
       "    <tr style=\"text-align: right;\">\n",
       "      <th></th>\n",
       "      <th>column_1</th>\n",
       "      <th>column_2</th>\n",
       "      <th>column_3</th>\n",
       "      <th>column_4</th>\n",
       "      <th>column_5</th>\n",
       "      <th>column_6</th>\n",
       "    </tr>\n",
       "  </thead>\n",
       "  <tbody>\n",
       "    <tr>\n",
       "      <th>1</th>\n",
       "      <td>0.168313</td>\n",
       "      <td>0.233283</td>\n",
       "      <td>0.996911</td>\n",
       "      <td>0.479247</td>\n",
       "      <td>0.757023</td>\n",
       "      <td>0.700410</td>\n",
       "    </tr>\n",
       "    <tr>\n",
       "      <th>2</th>\n",
       "      <td>0.001914</td>\n",
       "      <td>0.215373</td>\n",
       "      <td>0.984455</td>\n",
       "      <td>0.841889</td>\n",
       "      <td>0.618714</td>\n",
       "      <td>0.301773</td>\n",
       "    </tr>\n",
       "    <tr>\n",
       "      <th>3</th>\n",
       "      <td>0.794759</td>\n",
       "      <td>0.915977</td>\n",
       "      <td>0.733473</td>\n",
       "      <td>0.493391</td>\n",
       "      <td>0.413146</td>\n",
       "      <td>0.469250</td>\n",
       "    </tr>\n",
       "    <tr>\n",
       "      <th>4</th>\n",
       "      <td>0.884570</td>\n",
       "      <td>0.539244</td>\n",
       "      <td>0.988261</td>\n",
       "      <td>0.051036</td>\n",
       "      <td>0.872840</td>\n",
       "      <td>0.250751</td>\n",
       "    </tr>\n",
       "    <tr>\n",
       "      <th>5</th>\n",
       "      <td>0.363488</td>\n",
       "      <td>0.547630</td>\n",
       "      <td>0.334666</td>\n",
       "      <td>0.871166</td>\n",
       "      <td>0.768638</td>\n",
       "      <td>0.272481</td>\n",
       "    </tr>\n",
       "    <tr>\n",
       "      <th>6</th>\n",
       "      <td>0.124220</td>\n",
       "      <td>0.568148</td>\n",
       "      <td>0.639146</td>\n",
       "      <td>0.496030</td>\n",
       "      <td>0.432816</td>\n",
       "      <td>0.616744</td>\n",
       "    </tr>\n",
       "  </tbody>\n",
       "</table>\n",
       "</div>"
      ],
      "text/plain": [
       "   column_1  column_2  column_3  column_4  column_5  column_6\n",
       "1  0.168313  0.233283  0.996911  0.479247  0.757023  0.700410\n",
       "2  0.001914  0.215373  0.984455  0.841889  0.618714  0.301773\n",
       "3  0.794759  0.915977  0.733473  0.493391  0.413146  0.469250\n",
       "4  0.884570  0.539244  0.988261  0.051036  0.872840  0.250751\n",
       "5  0.363488  0.547630  0.334666  0.871166  0.768638  0.272481\n",
       "6  0.124220  0.568148  0.639146  0.496030  0.432816  0.616744"
      ]
     },
     "execution_count": 7,
     "metadata": {},
     "output_type": "execute_result"
    }
   ],
   "source": [
    "df1"
   ]
  },
  {
   "cell_type": "code",
   "execution_count": 8,
   "id": "5d972182-fc52-4edd-b8cc-02b1cd11def7",
   "metadata": {},
   "outputs": [
    {
     "data": {
      "text/html": [
       "<div>\n",
       "<style scoped>\n",
       "    .dataframe tbody tr th:only-of-type {\n",
       "        vertical-align: middle;\n",
       "    }\n",
       "\n",
       "    .dataframe tbody tr th {\n",
       "        vertical-align: top;\n",
       "    }\n",
       "\n",
       "    .dataframe thead th {\n",
       "        text-align: right;\n",
       "    }\n",
       "</style>\n",
       "<table border=\"1\" class=\"dataframe\">\n",
       "  <thead>\n",
       "    <tr style=\"text-align: right;\">\n",
       "      <th></th>\n",
       "      <th>column_1</th>\n",
       "      <th>column_2</th>\n",
       "      <th>column_3</th>\n",
       "      <th>column_4</th>\n",
       "      <th>column_5</th>\n",
       "      <th>column_6</th>\n",
       "    </tr>\n",
       "  </thead>\n",
       "  <tbody>\n",
       "    <tr>\n",
       "      <th>count</th>\n",
       "      <td>6.000000</td>\n",
       "      <td>6.000000</td>\n",
       "      <td>6.000000</td>\n",
       "      <td>6.000000</td>\n",
       "      <td>6.000000</td>\n",
       "      <td>6.000000</td>\n",
       "    </tr>\n",
       "    <tr>\n",
       "      <th>mean</th>\n",
       "      <td>0.389544</td>\n",
       "      <td>0.503276</td>\n",
       "      <td>0.779485</td>\n",
       "      <td>0.538793</td>\n",
       "      <td>0.643863</td>\n",
       "      <td>0.435235</td>\n",
       "    </tr>\n",
       "    <tr>\n",
       "      <th>std</th>\n",
       "      <td>0.368653</td>\n",
       "      <td>0.258293</td>\n",
       "      <td>0.265537</td>\n",
       "      <td>0.299226</td>\n",
       "      <td>0.189319</td>\n",
       "      <td>0.191184</td>\n",
       "    </tr>\n",
       "    <tr>\n",
       "      <th>min</th>\n",
       "      <td>0.001914</td>\n",
       "      <td>0.215373</td>\n",
       "      <td>0.334666</td>\n",
       "      <td>0.051036</td>\n",
       "      <td>0.413146</td>\n",
       "      <td>0.250751</td>\n",
       "    </tr>\n",
       "    <tr>\n",
       "      <th>25%</th>\n",
       "      <td>0.135243</td>\n",
       "      <td>0.309773</td>\n",
       "      <td>0.662727</td>\n",
       "      <td>0.482783</td>\n",
       "      <td>0.479291</td>\n",
       "      <td>0.279804</td>\n",
       "    </tr>\n",
       "    <tr>\n",
       "      <th>50%</th>\n",
       "      <td>0.265901</td>\n",
       "      <td>0.543437</td>\n",
       "      <td>0.858964</td>\n",
       "      <td>0.494710</td>\n",
       "      <td>0.687869</td>\n",
       "      <td>0.385511</td>\n",
       "    </tr>\n",
       "    <tr>\n",
       "      <th>75%</th>\n",
       "      <td>0.686941</td>\n",
       "      <td>0.563018</td>\n",
       "      <td>0.987309</td>\n",
       "      <td>0.755424</td>\n",
       "      <td>0.765734</td>\n",
       "      <td>0.579871</td>\n",
       "    </tr>\n",
       "    <tr>\n",
       "      <th>max</th>\n",
       "      <td>0.884570</td>\n",
       "      <td>0.915977</td>\n",
       "      <td>0.996911</td>\n",
       "      <td>0.871166</td>\n",
       "      <td>0.872840</td>\n",
       "      <td>0.700410</td>\n",
       "    </tr>\n",
       "  </tbody>\n",
       "</table>\n",
       "</div>"
      ],
      "text/plain": [
       "       column_1  column_2  column_3  column_4  column_5  column_6\n",
       "count  6.000000  6.000000  6.000000  6.000000  6.000000  6.000000\n",
       "mean   0.389544  0.503276  0.779485  0.538793  0.643863  0.435235\n",
       "std    0.368653  0.258293  0.265537  0.299226  0.189319  0.191184\n",
       "min    0.001914  0.215373  0.334666  0.051036  0.413146  0.250751\n",
       "25%    0.135243  0.309773  0.662727  0.482783  0.479291  0.279804\n",
       "50%    0.265901  0.543437  0.858964  0.494710  0.687869  0.385511\n",
       "75%    0.686941  0.563018  0.987309  0.755424  0.765734  0.579871\n",
       "max    0.884570  0.915977  0.996911  0.871166  0.872840  0.700410"
      ]
     },
     "execution_count": 8,
     "metadata": {},
     "output_type": "execute_result"
    }
   ],
   "source": [
    "df1.describe()"
   ]
  },
  {
   "cell_type": "markdown",
   "id": "42268626-6c80-4cee-8d75-f4569bb6759d",
   "metadata": {},
   "source": [
    "Q5. Replace the data present in the second row of column, ‘column_2’ by a string variable then find the\n",
    "mean of column, column_2.\n",
    "If you are getting errors in executing it then explain why.\n",
    "[Hint: To replace the data use df1.loc[] and equate this to string data of your choice.]"
   ]
  },
  {
   "cell_type": "code",
   "execution_count": 9,
   "id": "6ca36143-c7e2-4792-9d4b-273f3373db71",
   "metadata": {},
   "outputs": [],
   "source": [
    "replacement_string = \"rak\"\n",
    "df1.loc[1, \"column_2\"]= replacement_string"
   ]
  },
  {
   "cell_type": "code",
   "execution_count": 10,
   "id": "dfbb8ae6-fdf4-4e48-a4ba-fe5967b041c5",
   "metadata": {},
   "outputs": [
    {
     "data": {
      "text/plain": [
       "1    0.168313\n",
       "2    0.001914\n",
       "3    0.794759\n",
       "4    0.884570\n",
       "5    0.363488\n",
       "6    0.124220\n",
       "Name: column_1, dtype: float64"
      ]
     },
     "execution_count": 10,
     "metadata": {},
     "output_type": "execute_result"
    }
   ],
   "source": [
    "df1[\"column_1\"]"
   ]
  },
  {
   "cell_type": "markdown",
   "id": "4adce111-c900-4fcb-b259-caad3cf0f2ed",
   "metadata": {},
   "source": [
    "column 2 mean cannot be found because a strng is given in the 1s index number so we cant perform meam to that column2"
   ]
  },
  {
   "cell_type": "markdown",
   "id": "ebd3ebae-29cf-47cd-84a4-c19711251624",
   "metadata": {},
   "source": [
    "Q6. What do you understand about the windows function in pandas and list the types of windows\n",
    "functions?"
   ]
  },
  {
   "cell_type": "markdown",
   "id": "99f669c5-96d8-4761-8bef-b3f3df24f11b",
   "metadata": {},
   "source": [
    "\n",
    "Ans. In pandas, the term \"window functions\" refers to a category of operations that can be applied to a set of data points within a specified window or range. These functions operate on a moving window of data, allowing you to perform calculations over subsets of your data, often used in time-series analysis.\n",
    "\n",
    "df4.rolling(window=2).min()\n",
    "\n",
    "df4.rolling(window=2).mean()\n",
    "\n",
    "df4.rolling(window=2).median()\n",
    "\n",
    "df4.rolling(window=2).mode()\n",
    "\n",
    "df4.rolling(window=2).sum()"
   ]
  },
  {
   "cell_type": "markdown",
   "id": "dcbaa5e5-8a85-4b9a-9de3-049473aa2d28",
   "metadata": {},
   "source": [
    "Q7. Write a code to print only the current month and year at the time of answering this question.\n",
    "[Hint: Use pandas.datetime function]"
   ]
  },
  {
   "cell_type": "code",
   "execution_count": 11,
   "id": "c61214d2-cbcc-42f8-a936-5bde71eea2ed",
   "metadata": {},
   "outputs": [],
   "source": [
    "date = pd.date_range(start= \"2024-01-14\", end = \"2024-01-31\" )"
   ]
  },
  {
   "cell_type": "code",
   "execution_count": 12,
   "id": "dce6aad2-d865-48cb-bdfc-f22fb3c8bcb0",
   "metadata": {},
   "outputs": [
    {
     "data": {
      "text/plain": [
       "DatetimeIndex(['2024-01-14', '2024-01-15', '2024-01-16', '2024-01-17',\n",
       "               '2024-01-18', '2024-01-19', '2024-01-20', '2024-01-21',\n",
       "               '2024-01-22', '2024-01-23', '2024-01-24', '2024-01-25',\n",
       "               '2024-01-26', '2024-01-27', '2024-01-28', '2024-01-29',\n",
       "               '2024-01-30', '2024-01-31'],\n",
       "              dtype='datetime64[ns]', freq='D')"
      ]
     },
     "execution_count": 12,
     "metadata": {},
     "output_type": "execute_result"
    }
   ],
   "source": [
    "date"
   ]
  },
  {
   "cell_type": "markdown",
   "id": "47337ad2-caa1-4664-b395-9f2f03fbc726",
   "metadata": {},
   "source": [
    "Q8. Write a Python program that takes in two dates as input (in the format YYYY-MM-DD) and\n",
    "calculates the difference between them in days, hours, and minutes using Pandas time delta. The\n",
    "program should prompt the user to enter the dates and display the result."
   ]
  },
  {
   "cell_type": "code",
   "execution_count": 18,
   "id": "157df8c2-b6ec-458d-8612-6d9d1da2449c",
   "metadata": {
    "tags": []
   },
   "outputs": [
    {
     "name": "stdin",
     "output_type": "stream",
     "text": [
      "Enter the start date in format (YYYY-MM-DD) to calculate the difference 2024-01-14\n",
      "Enter the end date in format (YYYY-MM-DD) 2024-01-30\n"
     ]
    },
    {
     "name": "stdout",
     "output_type": "stream",
     "text": [
      "Time difference: 16 days\n"
     ]
    }
   ],
   "source": [
    "date1= input(\"Enter the start date in format (YYYY-MM-DD) to calculate the difference\")\n",
    "date2=input(\"Enter the end date in format (YYYY-MM-DD)\")\n",
    "# Convert input strings to datetime objects\n",
    "date1_format = pd.to_datetime(date1)\n",
    "date2_format = pd.to_datetime(date2)\n",
    "time = date2_format - date1_format\n",
    "# Extract days, hours, and minutes from the time difference\n",
    "days=time.days\n",
    "print(f\"Time difference: {days} days\")"
   ]
  },
  {
   "cell_type": "markdown",
   "id": "2d7fc482-2da8-41a9-92c0-950cb9154232",
   "metadata": {},
   "source": [
    "Q9. You are given a CSV file containing student data that includes the student ID and their test score. Write\n",
    "a Python program that reads the CSV file, calculates the mean, median, and mode of the test scores, and\n",
    "displays the results in a table.\n",
    "The program should do the followingM\n",
    "I Prompt the user to enter the file path of the CSV file containing the student dataR\n",
    "I Read the CSV file into a Pandas DataFrameR\n",
    "I Calculate the mean, median, and mode of the test scores using Pandas toolsR\n",
    "I Display the mean, median, and mode in a table."
   ]
  },
  {
   "cell_type": "code",
   "execution_count": 17,
   "id": "1795b36f-076c-4c4c-b384-ed138d364443",
   "metadata": {},
   "outputs": [
    {
     "name": "stdin",
     "output_type": "stream",
     "text": [
      "Enter the file path to read the CSV file:  sample.csv\n"
     ]
    },
    {
     "name": "stdout",
     "output_type": "stream",
     "text": [
      "The mean value is  83.5\n",
      "The median value is  85.0\n",
      "The mode value is  0    85\n",
      "Name: Test Score, dtype: int64\n"
     ]
    }
   ],
   "source": [
    "file_path = input(\"Enter the file path to read the CSV file: \")\n",
    "import pandas as pd\n",
    "df = pd.read_csv(file_path)\n",
    "print(\"The mean value is \",df[\"Test Score\"].mean())\n",
    "print(\"The median value is \",df[\"Test Score\"].median())\n",
    "print(\"The mode value is \",df[\"Test Score\"].mode())"
   ]
  },
  {
   "cell_type": "markdown",
   "id": "3564a145-1a7a-49cb-b872-3a49e9f67089",
   "metadata": {},
   "source": [
    "Q10. Write a Python program that reads a CSV file containing sales data for different products and\n",
    "visualizes the data using a stacked bar chart to show the sales of each product category over time. The\n",
    "program should prompt the user to enter the file path and display the chart."
   ]
  },
  {
   "cell_type": "code",
   "execution_count": null,
   "id": "a22a0428-c06f-468f-b8f6-f882d208c726",
   "metadata": {},
   "outputs": [],
   "source": [
    "file_path = input(\"Enter the file path to read the CSV file: \")\n",
    "df = pd.read_csv(\"sample.csv\")\n",
    "\n",
    "# Set the 'Date' column as the index for the DataFrame\n",
    "df.set_index(\"Date\", inplace = True)\n",
    "# Transpose the DataFrame for stacked bar chart\n",
    "df_transposed = df.T\n",
    "# Plotting a stacked bar chart using Pandas plot\n",
    "df_transposed.plot(kind='bar', stacked=True, figsize=(10, 6))\n",
    "plt.xlabel('Product Category')\n",
    "plt.ylabel('Sales')\n",
    "plt.legend(title='Date', bbox_to_anchor=(1, 1), loc='upper left')"
   ]
  },
  {
   "cell_type": "code",
   "execution_count": null,
   "id": "7b847223-ce4e-4d78-8b6a-e0f0f095cb28",
   "metadata": {},
   "outputs": [],
   "source": []
  }
 ],
 "metadata": {
  "kernelspec": {
   "display_name": "Python 3 (ipykernel)",
   "language": "python",
   "name": "python3"
  },
  "language_info": {
   "codemirror_mode": {
    "name": "ipython",
    "version": 3
   },
   "file_extension": ".py",
   "mimetype": "text/x-python",
   "name": "python",
   "nbconvert_exporter": "python",
   "pygments_lexer": "ipython3",
   "version": "3.10.8"
  }
 },
 "nbformat": 4,
 "nbformat_minor": 5
}
